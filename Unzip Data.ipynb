{
 "cells": [
  {
   "cell_type": "markdown",
   "metadata": {
    "id": "2-NawtEe9kWV"
   },
   "source": [
    "# Purpose: Unzip data files onto Computer"
   ]
  },
  {
   "cell_type": "markdown",
   "metadata": {
    "id": "aWpysU0JA3vR"
   },
   "source": [
    "Adience Description\n",
    "\n",
    "The dataset is composed of 5 folds to allow 5-fold 'leave one out' cross validation. To prevent overfitting, each fold contains different subjects. \n",
    "\n",
    "Each fold is described by a csv file with 12 columns:\n",
    "\n",
    "1. user_id - the folder in the dataset containing the image. (folder name)\n",
    "2. original_image - image name in the dataset. (naming convention: landmark_aligned_face.original_image)\n",
    "3. face_id - the Face ID in the original Flickr image, can be ignored. \n",
    "4. age - age label of the face.\n",
    "5. gender - gender label of the face.\n",
    "6. x, y, dx, dy - bounding box of the face in the original Flickr image, can be ignored.\n",
    "7. tilt_ang, fiducial_yaw_angle - pose of the face in the original Flickr image, can be ignored. \n",
    "8. fiducial_score - score of the landmark detector, can be ignored. \n",
    "\n",
    "***If you use the dataset, please cite: Eran Eidinger, Roee Enbar, Tal Hassner. Age and Gender Estimation of Unfiltered Faces. Transactions on Information Forensics and Security (IEEE-TIFS), special issue on Facial Biometrics in the Wild, Volume 9, Issue 12, pages 2170 - 2179, 2014.***"
   ]
  },
  {
   "cell_type": "code",
   "execution_count": 4,
   "metadata": {
    "id": "uzfpbCUl9cwf"
   },
   "outputs": [],
   "source": [
    "# No need to run as aligned.tar has been removed to save space\n",
    "import tarfile\n",
    "my_tar = tarfile.open('C:\\\\Users\\\\zhouw\\\\Downloads\\\\aligned.tar')\n",
    "my_tar.extractall('C:\\\\Users\\\\zhouw\\\\OneDrive - Nanyang Technological University\\\\NTU\\\\CZ4042\\\\Project') # specify which folder to extract to\n",
    "my_tar.close()"
   ]
  },
  {
   "cell_type": "markdown",
   "metadata": {
    "id": "Oc_whx3RQLpJ"
   },
   "source": [
    "img_align_celeba.zip\n",
    "\n",
    "format: JPG\n",
    "\n",
    "Notes:\n",
    "1. Images are first roughly aligned using similarity transformation according to the two eye locations;\n",
    "2. Images are then resized to 218*178;"
   ]
  },
  {
   "cell_type": "code",
   "execution_count": 1,
   "metadata": {
    "colab": {
     "background_save": true
    },
    "id": "9gg8dXNAAp2W"
   },
   "outputs": [],
   "source": [
    "# No need to run as aligned.tar has been removed to save space\n",
    "import zipfile\n",
    "with zipfile.ZipFile(\"C:\\\\Users\\\\zhouw\\\\Downloads\\\\img_align_celeba.zip\", 'r') as zip_ref:\n",
    "    zip_ref.extractall('C:\\\\Users\\\\zhouw\\\\OneDrive - Nanyang Technological University\\\\NTU\\\\CZ4042\\\\Project')"
   ]
  },
  {
   "cell_type": "code",
   "execution_count": null,
   "metadata": {},
   "outputs": [],
   "source": []
  }
 ],
 "metadata": {
  "colab": {
   "authorship_tag": "ABX9TyPCzD5bi99m52fF9eQpQlAo",
   "mount_file_id": "1rp9H3WYfJA3LlZ68KpdWCblNtNHcgiSV",
   "provenance": []
  },
  "kernelspec": {
   "display_name": "Python 3 (ipykernel)",
   "language": "python",
   "name": "python3"
  },
  "language_info": {
   "codemirror_mode": {
    "name": "ipython",
    "version": 3
   },
   "file_extension": ".py",
   "mimetype": "text/x-python",
   "name": "python",
   "nbconvert_exporter": "python",
   "pygments_lexer": "ipython3",
   "version": "3.8.3"
  }
 },
 "nbformat": 4,
 "nbformat_minor": 1
}
